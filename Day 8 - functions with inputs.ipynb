{
 "cells": [
  {
   "cell_type": "code",
   "execution_count": 3,
   "id": "258989b1",
   "metadata": {},
   "outputs": [],
   "source": [
    "def greet(name): # name here is the parameter - name of that data\n",
    "    print(f\"Hello {name}!\")\n",
    "    print(\"I am a computer\")\n",
    "    print(\"Goodbye!\")"
   ]
  },
  {
   "cell_type": "code",
   "execution_count": 5,
   "id": "0575ef30",
   "metadata": {},
   "outputs": [
    {
     "name": "stdout",
     "output_type": "stream",
     "text": [
      "Hello Lisa!\n",
      "I am a computer\n",
      "Goodbye!\n"
     ]
    }
   ],
   "source": [
    "greet(\"Lisa\")"
   ]
  },
  {
   "cell_type": "code",
   "execution_count": 6,
   "id": "0bf45041",
   "metadata": {},
   "outputs": [
    {
     "name": "stdout",
     "output_type": "stream",
     "text": [
      "What is your name?\n",
      "Lisa Rose\n",
      "Hello Lisa Rose!\n",
      "I am a computer\n",
      "Goodbye!\n"
     ]
    }
   ],
   "source": [
    "name = input(\"What is your name?\\n\")\n",
    "greet(name) # name here is the argument - value of the data"
   ]
  },
  {
   "cell_type": "code",
   "execution_count": 7,
   "id": "83f1a8a8",
   "metadata": {},
   "outputs": [
    {
     "name": "stdout",
     "output_type": "stream",
     "text": [
      "What is your name?\n",
      "Mammoth\n",
      "Hello Mammoth!\n",
      "I am a computer\n",
      "Goodbye!\n"
     ]
    }
   ],
   "source": [
    "greet(input(\"What is your name?\\n\"))"
   ]
  },
  {
   "cell_type": "code",
   "execution_count": 8,
   "id": "3f053e43",
   "metadata": {},
   "outputs": [],
   "source": [
    "def greet_with(name, location):\n",
    "    print(f\"Hello {name} in {location}\")"
   ]
  },
  {
   "cell_type": "code",
   "execution_count": 9,
   "id": "2266cddc",
   "metadata": {},
   "outputs": [
    {
     "name": "stdout",
     "output_type": "stream",
     "text": [
      "Hello Lisa Rose in Lathom\n"
     ]
    }
   ],
   "source": [
    "greet_with(\"Lisa Rose\", \"Lathom\") # positional arguments - default way of calling functions"
   ]
  },
  {
   "cell_type": "code",
   "execution_count": 10,
   "id": "492d2f1a",
   "metadata": {},
   "outputs": [
    {
     "name": "stdout",
     "output_type": "stream",
     "text": [
      "Hello Lisa Rose in Lathom\n"
     ]
    }
   ],
   "source": [
    "greet_with(location=\"Lathom\", name=\"Lisa Rose\") # keyword arguments"
   ]
  },
  {
   "cell_type": "code",
   "execution_count": 13,
   "id": "f07ac66b",
   "metadata": {},
   "outputs": [],
   "source": [
    "import math\n",
    "\n",
    "def paint_calc(test_h, test_w, coverage):\n",
    "    tins_needed = math.ceil(test_h * test_w / coverage)\n",
    "    print(f\"You need {tins_needed} tins\")"
   ]
  },
  {
   "cell_type": "code",
   "execution_count": 16,
   "id": "408daf26",
   "metadata": {},
   "outputs": [
    {
     "name": "stdout",
     "output_type": "stream",
     "text": [
      "8\n",
      "4\n"
     ]
    }
   ],
   "source": [
    "test_h = int(input())\n",
    "test_w = int(input())\n",
    "coverage = 5"
   ]
  },
  {
   "cell_type": "code",
   "execution_count": 17,
   "id": "f053121d",
   "metadata": {},
   "outputs": [
    {
     "name": "stdout",
     "output_type": "stream",
     "text": [
      "You need 7 tins\n"
     ]
    }
   ],
   "source": [
    "paint_calc(test_h, test_w, coverage)"
   ]
  },
  {
   "cell_type": "code",
   "execution_count": 26,
   "id": "7bc89e5d",
   "metadata": {},
   "outputs": [],
   "source": [
    "def is_prime(num):\n",
    "    prime = True\n",
    "    \n",
    "    count = 2\n",
    "    \n",
    "    while prime == True and count < num:\n",
    "        if num % count == 0:\n",
    "            prime = False\n",
    "        else:\n",
    "            count += 1\n",
    "    \n",
    "    if num == 1:\n",
    "        print(f\"{num} is a not prime number\")        \n",
    "    elif prime == True:\n",
    "        print(f\"{num} is a prime number\")\n",
    "    else:\n",
    "        print(f\"{num} is a not prime number\")"
   ]
  },
  {
   "cell_type": "code",
   "execution_count": 24,
   "id": "21bae8b5",
   "metadata": {},
   "outputs": [
    {
     "name": "stdout",
     "output_type": "stream",
     "text": [
      "Please input a whole number to test if it is a prime number: 9\n",
      "9 is a not prime number\n"
     ]
    }
   ],
   "source": [
    "choice = int(input(\"Please input a whole number to test if it is a prime number: \"))\n",
    "is_prime(choice)"
   ]
  },
  {
   "cell_type": "code",
   "execution_count": 27,
   "id": "9ad37b0a",
   "metadata": {},
   "outputs": [
    {
     "name": "stdout",
     "output_type": "stream",
     "text": [
      "1 is a not prime number\n",
      "2 is a prime number\n",
      "3 is a prime number\n",
      "4 is a not prime number\n",
      "5 is a prime number\n",
      "6 is a not prime number\n",
      "7 is a prime number\n",
      "8 is a not prime number\n",
      "9 is a not prime number\n",
      "10 is a not prime number\n",
      "11 is a prime number\n",
      "12 is a not prime number\n",
      "13 is a prime number\n",
      "14 is a not prime number\n",
      "15 is a not prime number\n",
      "16 is a not prime number\n",
      "17 is a prime number\n",
      "18 is a not prime number\n",
      "19 is a prime number\n",
      "20 is a not prime number\n",
      "21 is a not prime number\n",
      "22 is a not prime number\n",
      "23 is a prime number\n",
      "24 is a not prime number\n",
      "25 is a not prime number\n",
      "26 is a not prime number\n",
      "27 is a not prime number\n",
      "28 is a not prime number\n",
      "29 is a prime number\n",
      "30 is a not prime number\n",
      "31 is a prime number\n",
      "32 is a not prime number\n",
      "33 is a not prime number\n",
      "34 is a not prime number\n",
      "35 is a not prime number\n",
      "36 is a not prime number\n",
      "37 is a prime number\n",
      "38 is a not prime number\n",
      "39 is a not prime number\n",
      "40 is a not prime number\n",
      "41 is a prime number\n",
      "42 is a not prime number\n",
      "43 is a prime number\n",
      "44 is a not prime number\n",
      "45 is a not prime number\n",
      "46 is a not prime number\n",
      "47 is a prime number\n",
      "48 is a not prime number\n",
      "49 is a not prime number\n",
      "50 is a not prime number\n",
      "51 is a not prime number\n",
      "52 is a not prime number\n",
      "53 is a prime number\n",
      "54 is a not prime number\n",
      "55 is a not prime number\n",
      "56 is a not prime number\n",
      "57 is a not prime number\n",
      "58 is a not prime number\n",
      "59 is a prime number\n",
      "60 is a not prime number\n",
      "61 is a prime number\n",
      "62 is a not prime number\n",
      "63 is a not prime number\n",
      "64 is a not prime number\n",
      "65 is a not prime number\n",
      "66 is a not prime number\n",
      "67 is a prime number\n",
      "68 is a not prime number\n",
      "69 is a not prime number\n",
      "70 is a not prime number\n",
      "71 is a prime number\n",
      "72 is a not prime number\n",
      "73 is a prime number\n",
      "74 is a not prime number\n",
      "75 is a not prime number\n",
      "76 is a not prime number\n",
      "77 is a not prime number\n",
      "78 is a not prime number\n",
      "79 is a prime number\n",
      "80 is a not prime number\n",
      "81 is a not prime number\n",
      "82 is a not prime number\n",
      "83 is a prime number\n",
      "84 is a not prime number\n",
      "85 is a not prime number\n",
      "86 is a not prime number\n",
      "87 is a not prime number\n",
      "88 is a not prime number\n",
      "89 is a prime number\n",
      "90 is a not prime number\n",
      "91 is a not prime number\n",
      "92 is a not prime number\n",
      "93 is a not prime number\n",
      "94 is a not prime number\n",
      "95 is a not prime number\n",
      "96 is a not prime number\n",
      "97 is a prime number\n",
      "98 is a not prime number\n",
      "99 is a not prime number\n",
      "100 is a not prime number\n"
     ]
    }
   ],
   "source": [
    "for i in range(1, 101):\n",
    "    is_prime(i)"
   ]
  },
  {
   "cell_type": "code",
   "execution_count": 28,
   "id": "4ac116b6",
   "metadata": {},
   "outputs": [
    {
     "data": {
      "text/plain": [
       "['a',\n",
       " 'b',\n",
       " 'c',\n",
       " 'd',\n",
       " 'e',\n",
       " 'f',\n",
       " 'g',\n",
       " 'h',\n",
       " 'i',\n",
       " 'j',\n",
       " 'k',\n",
       " 'l',\n",
       " 'm',\n",
       " 'n',\n",
       " 'o',\n",
       " 'p',\n",
       " 'q',\n",
       " 'r',\n",
       " 's',\n",
       " 't',\n",
       " 'u',\n",
       " 'v',\n",
       " 'w',\n",
       " 'x',\n",
       " 'y',\n",
       " 'z']"
      ]
     },
     "execution_count": 28,
     "metadata": {},
     "output_type": "execute_result"
    }
   ],
   "source": [
    "alphabet = \"a,b,c,d,e,f,g,h,i,j,k,l,m,n,o,p,q,r,s,t,u,v,w,x,y,z\".split(\",\")\n",
    "alphabet"
   ]
  },
  {
   "cell_type": "code",
   "execution_count": 67,
   "id": "76323ff9",
   "metadata": {},
   "outputs": [
    {
     "name": "stdout",
     "output_type": "stream",
     "text": [
      "Type 'encode' to encrypt, type 'decode' to decrypt:\n",
      "encode\n",
      "Type your message:\n",
      "Hello\n",
      "Type the shift number:\n",
      "5\n"
     ]
    }
   ],
   "source": [
    "direction = input(\"Type 'encode' to encrypt, type 'decode' to decrypt:\\n\")\n",
    "message = input(\"Type your message:\\n\").lower()\n",
    "shift = int(input(\"Type the shift number:\\n\"))"
   ]
  },
  {
   "cell_type": "code",
   "execution_count": 49,
   "id": "eff209ab",
   "metadata": {},
   "outputs": [],
   "source": [
    "def encrypt(message, shift):\n",
    "    encrypted_message = \"\"\n",
    "    for letter in message:\n",
    "        position = alphabet.index(letter)\n",
    "        \n",
    "        if position + shift > 25:\n",
    "            position = position + shift - 26\n",
    "        else:\n",
    "            position += shift\n",
    "            \n",
    "        new_letter = alphabet[position]\n",
    "        \n",
    "        encrypted_message += new_letter\n",
    "        \n",
    "    print(f\"The encoded text is {encrypted_message}\")"
   ]
  },
  {
   "cell_type": "code",
   "execution_count": 75,
   "id": "aee57a97",
   "metadata": {},
   "outputs": [],
   "source": [
    "def decrypt(message, shift):\n",
    "    decrypted_message = \"\"\n",
    "    for letter in message:\n",
    "        position = alphabet.index(letter)\n",
    "        \n",
    "        if position - shift < 0:\n",
    "            position = position - shift + 26\n",
    "        else:\n",
    "            position -= shift\n",
    "            \n",
    "        new_letter = alphabet[position]\n",
    "        \n",
    "        decrypted_message += new_letter\n",
    "        \n",
    "    print(f\"The decoded text is {decrypted_message}\")"
   ]
  },
  {
   "cell_type": "code",
   "execution_count": 78,
   "id": "c47cf9b7",
   "metadata": {},
   "outputs": [
    {
     "name": "stdout",
     "output_type": "stream",
     "text": [
      "Type 'encode' to encrypt, type 'decode' to decrypt:\n",
      "decode\n",
      "Type your message:\n",
      "ezqz\n",
      "Type the shift number:\n",
      "5\n",
      "The decoded text is zulu\n"
     ]
    }
   ],
   "source": [
    "direction = input(\"Type 'encode' to encrypt, type 'decode' to decrypt:\\n\")\n",
    "message = input(\"Type your message:\\n\").lower()\n",
    "shift = int(input(\"Type the shift number:\\n\"))\n",
    "\n",
    "if direction.lower() == \"encode\":\n",
    "    encrypt(message, shift)\n",
    "else:\n",
    "    decrypt(message, shift)"
   ]
  },
  {
   "cell_type": "code",
   "execution_count": 116,
   "id": "df64f029",
   "metadata": {},
   "outputs": [],
   "source": [
    "logo = \"\"\"           \n",
    " ,adPPYba, ,adPPYYba,  ,adPPYba, ,adPPYba, ,adPPYYba, 8b,dPPYba,  \n",
    "a8\"     \"\" \"\"     `Y8 a8P_____88 I8[    \"\" \"\"     `Y8 88P'   \"Y8  \n",
    "8b         ,adPPPPP88 8PP\"\"\"\"\"\"\"  `\"Y8ba,  ,adPPPPP88 88          \n",
    "\"8a,   ,aa 88,    ,88 \"8b,   ,aa aa    ]8I 88,    ,88 88          \n",
    " `\"Ybbd8\"' `\"8bbdP\"Y8  `\"Ybbd8\"' `\"YbbdP\"' `\"8bbdP\"Y8 88   \n",
    "            88             88                                 \n",
    "           \"\"             88                                 \n",
    "                          88                                 \n",
    " ,adPPYba, 88 8b,dPPYba,  88,dPPYba,   ,adPPYba, 8b,dPPYba,  \n",
    "a8\"     \"\" 88 88P'    \"8a 88P'    \"8a a8P_____88 88P'   \"Y8  \n",
    "8b         88 88       d8 88       88 8PP\"\"\"\"\"\"\" 88          \n",
    "\"8a,   ,aa 88 88b,   ,a8\" 88       88 \"8b,   ,aa 88          \n",
    " `\"Ybbd8\"' 88 88`YbbdP\"'  88       88  `\"Ybbd8\"' 88          \n",
    "              88                                             \n",
    "              88           \n",
    "\"\"\""
   ]
  },
  {
   "cell_type": "code",
   "execution_count": 111,
   "id": "7635bb3c",
   "metadata": {},
   "outputs": [],
   "source": [
    "def caeser(direction, message, shift):\n",
    "    new_message = \"\"\n",
    "    \n",
    "    shift = shift % 26 # if shift > letters in alphabet\n",
    "    \n",
    "    for letter in message:\n",
    "        if letter not in alphabet:\n",
    "            new_message += letter\n",
    "        else:\n",
    "            position = alphabet.index(letter)\n",
    "\n",
    "            if direction == \"encode\" and position + shift > 25:\n",
    "                position = position + shift - 26\n",
    "            elif direction == \"encode\":\n",
    "                position += shift\n",
    "            elif position - shift < 0:\n",
    "                position = position - shift + 26\n",
    "            else:\n",
    "                position -= shift\n",
    "\n",
    "            new_letter = alphabet[position]\n",
    "\n",
    "            new_message += new_letter\n",
    "        \n",
    "    print(f\"The {direction}d text is {new_message}\")"
   ]
  },
  {
   "cell_type": "code",
   "execution_count": 117,
   "id": "8ec9a7c7",
   "metadata": {},
   "outputs": [
    {
     "name": "stdout",
     "output_type": "stream",
     "text": [
      "           \n",
      " ,adPPYba, ,adPPYYba,  ,adPPYba, ,adPPYba, ,adPPYYba, 8b,dPPYba,  \n",
      "a8\"     \"\" \"\"     `Y8 a8P_____88 I8[    \"\" \"\"     `Y8 88P'   \"Y8  \n",
      "8b         ,adPPPPP88 8PP\"  `\"Y8ba,  ,adPPPPP88 88          \n",
      "\"8a,   ,aa 88,    ,88 \"8b,   ,aa aa    ]8I 88,    ,88 88          \n",
      " `\"Ybbd8\"' `\"8bbdP\"Y8  `\"Ybbd8\"' `\"YbbdP\"' `\"8bbdP\"Y8 88   \n",
      "            88             88                                 \n",
      "           \"\"             88                                 \n",
      "                          88                                 \n",
      " ,adPPYba, 88 8b,dPPYba,  88,dPPYba,   ,adPPYba, 8b,dPPYba,  \n",
      "a8\"     \"\" 88 88P'    \"8a 88P'    \"8a a8P_____88 88P'   \"Y8  \n",
      "8b         88 88       d8 88       88 8PP\" 88          \n",
      "\"8a,   ,aa 88 88b,   ,a8\" 88       88 \"8b,   ,aa 88          \n",
      " `\"Ybbd8\"' 88 88`YbbdP\"'  88       88  `\"Ybbd8\"' 88          \n",
      "              88                                             \n",
      "              88           \n",
      "\n",
      "Type 'encode' to encrypt, type 'decode' to decrypt:\n",
      "encode\n",
      "Type your message:\n",
      "hello\n",
      "Type the shift number:\n",
      "5\n",
      "The encoded text is mjqqt\n",
      "Would you like to encode/decode again? Y/N?\n",
      "y\n",
      "Type 'encode' to encrypt, type 'decode' to decrypt:\n",
      "decode\n",
      "Type your message:\n",
      "mjqqt\n",
      "Type the shift number:\n",
      "5\n",
      "The decoded text is hello\n",
      "Would you like to encode/decode again? Y/N?\n",
      "n\n",
      "Goodbye!\n"
     ]
    }
   ],
   "source": [
    "choice = True\n",
    "print(logo)\n",
    "while choice == True:\n",
    "    direction = input(\"Type 'encode' to encrypt, type 'decode' to decrypt:\\n\")\n",
    "    message = input(\"Type your message:\\n\").lower()\n",
    "    shift = int(input(\"Type the shift number:\\n\"))\n",
    "\n",
    "    caeser(direction, message, shift)\n",
    "        \n",
    "    select = input(\"Would you like to encode/decode again? Y/N?\\n\").upper()\n",
    "    \n",
    "    if select == \"N\":\n",
    "        choice = False\n",
    "        print(\"Goodbye!\")"
   ]
  },
  {
   "cell_type": "code",
   "execution_count": null,
   "id": "6299fe75",
   "metadata": {},
   "outputs": [],
   "source": []
  }
 ],
 "metadata": {
  "kernelspec": {
   "display_name": "Python 3 (ipykernel)",
   "language": "python",
   "name": "python3"
  },
  "language_info": {
   "codemirror_mode": {
    "name": "ipython",
    "version": 3
   },
   "file_extension": ".py",
   "mimetype": "text/x-python",
   "name": "python",
   "nbconvert_exporter": "python",
   "pygments_lexer": "ipython3",
   "version": "3.9.7"
  }
 },
 "nbformat": 4,
 "nbformat_minor": 5
}
