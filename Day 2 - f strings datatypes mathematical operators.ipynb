{
 "cells": [
  {
   "cell_type": "code",
   "execution_count": 1,
   "id": "21b7ec78",
   "metadata": {},
   "outputs": [],
   "source": [
    "integer = 12345"
   ]
  },
  {
   "cell_type": "code",
   "execution_count": 3,
   "id": "992e805e",
   "metadata": {},
   "outputs": [
    {
     "data": {
      "text/plain": [
       "5"
      ]
     },
     "execution_count": 3,
     "metadata": {},
     "output_type": "execute_result"
    }
   ],
   "source": [
    "# type casting / conversion\n",
    "len(str(integer))"
   ]
  },
  {
   "cell_type": "code",
   "execution_count": 4,
   "id": "adb50afd",
   "metadata": {},
   "outputs": [
    {
     "name": "stdout",
     "output_type": "stream",
     "text": [
      "H\n"
     ]
    }
   ],
   "source": [
    "# Subscripting\n",
    "print(\"Hello\"[0])"
   ]
  },
  {
   "cell_type": "code",
   "execution_count": 5,
   "id": "606a8e53",
   "metadata": {},
   "outputs": [
    {
     "name": "stdout",
     "output_type": "stream",
     "text": [
      "o\n"
     ]
    }
   ],
   "source": [
    "# Subscripting\n",
    "print(\"Hello\"[-1])"
   ]
  },
  {
   "cell_type": "code",
   "execution_count": 6,
   "id": "ae9cf8da",
   "metadata": {},
   "outputs": [
    {
     "name": "stdout",
     "output_type": "stream",
     "text": [
      "o\n"
     ]
    }
   ],
   "source": [
    "# Subscripting\n",
    "print(\"Hello\"[4])"
   ]
  },
  {
   "cell_type": "code",
   "execution_count": 7,
   "id": "e371db39",
   "metadata": {},
   "outputs": [],
   "source": [
    "float_number = 3.1459"
   ]
  },
  {
   "cell_type": "code",
   "execution_count": 8,
   "id": "e8ab8f1d",
   "metadata": {},
   "outputs": [],
   "source": [
    "boolean = True"
   ]
  },
  {
   "cell_type": "code",
   "execution_count": 10,
   "id": "4e7aa979",
   "metadata": {},
   "outputs": [
    {
     "data": {
      "text/plain": [
       "int"
      ]
     },
     "execution_count": 10,
     "metadata": {},
     "output_type": "execute_result"
    }
   ],
   "source": [
    "type(integer)"
   ]
  },
  {
   "cell_type": "code",
   "execution_count": 12,
   "id": "da6e5911",
   "metadata": {},
   "outputs": [
    {
     "name": "stdout",
     "output_type": "stream",
     "text": [
      "Input a 2 digit number: 42\n",
      "Sum = 6\n"
     ]
    }
   ],
   "source": [
    "number = input(\"Input a 2 digit number: \")\n",
    "first_digit = int(str(number)[0])\n",
    "second_digit = int(str(number)[1])\n",
    "total = first_digit + second_digit\n",
    "print(\"Sum = \" + str(total))"
   ]
  },
  {
   "cell_type": "code",
   "execution_count": 24,
   "id": "fa51a1ea",
   "metadata": {},
   "outputs": [
    {
     "name": "stdout",
     "output_type": "stream",
     "text": [
      "Please enter your height in m: 1.75\n",
      "Please enter your weight in kg: 63.5\n",
      "Your BMI is: 20.73\n"
     ]
    }
   ],
   "source": [
    "height = input(\"Please enter your height in m: \")\n",
    "weight = input(\"Please enter your weight in kg: \")\n",
    "BMI = round(float(weight) / float(height)**2, 2)\n",
    "print(f\"Your BMI is: {BMI}\")"
   ]
  },
  {
   "cell_type": "code",
   "execution_count": 23,
   "id": "897126b8",
   "metadata": {},
   "outputs": [
    {
     "data": {
      "text/plain": [
       "2"
      ]
     },
     "execution_count": 23,
     "metadata": {},
     "output_type": "execute_result"
    }
   ],
   "source": [
    "# keeps as integer (floor division)\n",
    "8 // 3"
   ]
  },
  {
   "cell_type": "code",
   "execution_count": 27,
   "id": "797bf8c0",
   "metadata": {},
   "outputs": [
    {
     "name": "stdout",
     "output_type": "stream",
     "text": [
      "Please enter your age in years: 40\n",
      "You have 4640 weeks left on this mortal coil!\n"
     ]
    }
   ],
   "source": [
    "total_weeks = 90 * 52\n",
    "age = input(\"Please enter your age in years: \")\n",
    "time_till_death = total_weeks - int(age)\n",
    "print(f\"You have {time_till_death} weeks left on this mortal coil!\")"
   ]
  },
  {
   "cell_type": "code",
   "execution_count": 34,
   "id": "870e0c3e",
   "metadata": {},
   "outputs": [
    {
     "name": "stdout",
     "output_type": "stream",
     "text": [
      "Welcome to the tip calculator.\n",
      "What was the total bill? 100\n",
      "What percentage tip would you like to give? 10, 12, or 15? 10\n",
      "How many people to split the bill? 5\n",
      "Each person should pay: £22.00\n"
     ]
    }
   ],
   "source": [
    "print(\"Welcome to the tip calculator.\")\n",
    "total = float(input(\"What was the total bill? \"))\n",
    "tip = float(input(\"What percentage tip would you like to give? 10, 12, or 15? \"))\n",
    "people = int(input(\"How many people to split the bill? \"))\n",
    "amount = \"{:.2f}\".format(total * (1 + tip / 100) / people)\n",
    "print(f\"Each person should pay: £{amount}\")"
   ]
  }
 ],
 "metadata": {
  "kernelspec": {
   "display_name": "Python 3 (ipykernel)",
   "language": "python",
   "name": "python3"
  },
  "language_info": {
   "codemirror_mode": {
    "name": "ipython",
    "version": 3
   },
   "file_extension": ".py",
   "mimetype": "text/x-python",
   "name": "python",
   "nbconvert_exporter": "python",
   "pygments_lexer": "ipython3",
   "version": "3.9.7"
  }
 },
 "nbformat": 4,
 "nbformat_minor": 5
}
