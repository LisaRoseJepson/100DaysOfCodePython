{
 "cells": [
  {
   "cell_type": "code",
   "execution_count": 1,
   "id": "0862dde0",
   "metadata": {},
   "outputs": [
    {
     "name": "stdout",
     "output_type": "stream",
     "text": [
      "Hello\n"
     ]
    }
   ],
   "source": [
    "# functions - name of function followed by ()\n",
    "print(\"Hello\")"
   ]
  },
  {
   "cell_type": "code",
   "execution_count": 2,
   "id": "1f4d3958",
   "metadata": {},
   "outputs": [
    {
     "data": {
      "text/plain": [
       "5"
      ]
     },
     "execution_count": 2,
     "metadata": {},
     "output_type": "execute_result"
    }
   ],
   "source": [
    "len(\"hello\")"
   ]
  },
  {
   "cell_type": "code",
   "execution_count": 3,
   "id": "7d864b96",
   "metadata": {},
   "outputs": [],
   "source": [
    "# define the function\n",
    "def my_function():\n",
    "    print(\"Hello\")\n",
    "    print(\"Bye\")"
   ]
  },
  {
   "cell_type": "code",
   "execution_count": 4,
   "id": "ed88fca0",
   "metadata": {},
   "outputs": [
    {
     "name": "stdout",
     "output_type": "stream",
     "text": [
      "Hello\n",
      "Bye\n"
     ]
    }
   ],
   "source": [
    "# call the function\n",
    "my_function()"
   ]
  },
  {
   "cell_type": "code",
   "execution_count": null,
   "id": "8e75b420",
   "metadata": {},
   "outputs": [],
   "source": [
    "# Reeborg's World Code (hurdle 4)\n",
    "def turn_right():\n",
    "    turn_left()\n",
    "    turn_left()\n",
    "    turn_left()    \n",
    "\n",
    "def hurdle():\n",
    "    turn_left()\n",
    "    while wall_on_right():\n",
    "        move()\n",
    "    turn_right()\n",
    "    move()\n",
    "    turn_right()\n",
    "    while front_is_clear():\n",
    "        move()\n",
    "    turn_left()\n",
    "          \n",
    "while not at_goal():\n",
    "    if front_is_clear():\n",
    "        move()\n",
    "    else:\n",
    "        hurdle()"
   ]
  },
  {
   "cell_type": "code",
   "execution_count": null,
   "id": "6947571b",
   "metadata": {},
   "outputs": [],
   "source": [
    "# Reeborg's World code (maze)\n",
    "def turn_right():\n",
    "    turn_left()\n",
    "    turn_left()\n",
    "    turn_left()\n",
    "    \n",
    "# turn_right()\n",
    "\n",
    "while not at_goal():\n",
    "    if front_is_clear() and wall_on_right():\n",
    "        move()\n",
    "    elif front_is_clear() and right_is_clear():\n",
    "        turn_right()\n",
    "        move()\n",
    "    elif wall_in_front() and right_is_clear():\n",
    "        turn_right()\n",
    "        move()\n",
    "    else: # wall_in_front() and wall_on_right\n",
    "        turn_left()"
   ]
  }
 ],
 "metadata": {
  "kernelspec": {
   "display_name": "Python 3 (ipykernel)",
   "language": "python",
   "name": "python3"
  },
  "language_info": {
   "codemirror_mode": {
    "name": "ipython",
    "version": 3
   },
   "file_extension": ".py",
   "mimetype": "text/x-python",
   "name": "python",
   "nbconvert_exporter": "python",
   "pygments_lexer": "ipython3",
   "version": "3.9.7"
  }
 },
 "nbformat": 4,
 "nbformat_minor": 5
}
