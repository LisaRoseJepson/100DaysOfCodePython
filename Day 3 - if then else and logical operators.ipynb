{
 "cells": [
  {
   "cell_type": "code",
   "execution_count": 3,
   "id": "159b3330",
   "metadata": {},
   "outputs": [
    {
     "name": "stdout",
     "output_type": "stream",
     "text": [
      "Welcome to the rollercoaster!\n",
      "What is your height in cm? 120\n",
      "You can ride the rollercoaster!\n"
     ]
    }
   ],
   "source": [
    "print(\"Welcome to the rollercoaster!\")\n",
    "height = int(input(\"What is your height in cm? \"))\n",
    "\n",
    "if height >= 120:\n",
    "    print(\"You can ride the rollercoaster!\")\n",
    "else:\n",
    "    print(\"You can't ride!\")"
   ]
  },
  {
   "cell_type": "code",
   "execution_count": 5,
   "id": "fb9946d8",
   "metadata": {},
   "outputs": [
    {
     "name": "stdout",
     "output_type": "stream",
     "text": [
      "Please enter a whole number: 4\n",
      "Even!\n"
     ]
    }
   ],
   "source": [
    "number = int(input(\"Please enter a whole number: \"))\n",
    "if number % 2 == 0:\n",
    "    print(\"Even!\")\n",
    "else:\n",
    "    print(\"Odd!\")"
   ]
  },
  {
   "cell_type": "code",
   "execution_count": 12,
   "id": "c68cd33e",
   "metadata": {},
   "outputs": [
    {
     "name": "stdout",
     "output_type": "stream",
     "text": [
      "Welcome to the rollercoaster!\n",
      "What is your height in cm? 120\n",
      "You can ride the rollercoaster!\n",
      "What is your age? 11\n",
      "Price is $5\n"
     ]
    }
   ],
   "source": [
    "print(\"Welcome to the rollercoaster!\")\n",
    "height = int(input(\"What is your height in cm? \"))\n",
    "\n",
    "if height >= 120:\n",
    "    print(\"You can ride the rollercoaster!\")\n",
    "    age = int(input(\"What is your age? \"))\n",
    "    if age < 12:\n",
    "        print(\"Price is $5\")\n",
    "    elif age <= 18:\n",
    "        print(\"Price is $7\")\n",
    "    else:\n",
    "        print(\"Price is $12\")\n",
    "else:\n",
    "    print(\"You can't ride!\")"
   ]
  },
  {
   "cell_type": "code",
   "execution_count": 17,
   "id": "a2a3137f",
   "metadata": {},
   "outputs": [
    {
     "name": "stdout",
     "output_type": "stream",
     "text": [
      "Please enter your height in m: 1.56\n",
      "Please enter your weight in kg: 100\n",
      "Your BMI is: 41.09, you are clinically obese.\n"
     ]
    }
   ],
   "source": [
    "height = input(\"Please enter your height in m: \")\n",
    "weight = input(\"Please enter your weight in kg: \")\n",
    "BMI = round(float(weight) / float(height)**2, 2)\n",
    "\n",
    "if BMI < 18.5:\n",
    "    print(f\"Your BMI is: {BMI}, you are underweight.\")\n",
    "elif BMI < 25:\n",
    "    print(f\"Your BMI is: {BMI}, you have a normal weight.\")\n",
    "elif BMI < 30:\n",
    "    print(f\"Your BMI is: {BMI}, you are slightly overweight.\")\n",
    "elif BMI < 35:\n",
    "    print(f\"Your BMI is: {BMI}, you are obsese.\")\n",
    "else:\n",
    "    print(f\"Your BMI is: {BMI}, you are clinically obese.\")"
   ]
  },
  {
   "cell_type": "code",
   "execution_count": 22,
   "id": "3c705f40",
   "metadata": {},
   "outputs": [
    {
     "name": "stdout",
     "output_type": "stream",
     "text": [
      "Please enter a four digit (YYYY) year: 2024\n",
      "2024 is a leap year\n"
     ]
    }
   ],
   "source": [
    "# Leap year\n",
    "# divisible by 4\n",
    "# except if divisible by 100\n",
    "# unless divisible by 400\n",
    "year = int(input(\"Please enter a four digit (YYYY) year: \"))\n",
    "\n",
    "if year % 400 == 0:\n",
    "    print(f\"{year} is a leap year\")\n",
    "elif year % 100 == 0:\n",
    "    print(f\"{year} is NOT a leap year\")\n",
    "elif year % 4 == 0:\n",
    "    print(f\"{year} is a leap year\")\n",
    "else:\n",
    "    print(f\"{year} is NOT a leap year\")"
   ]
  },
  {
   "cell_type": "code",
   "execution_count": 28,
   "id": "233bf8ae",
   "metadata": {},
   "outputs": [
    {
     "name": "stdout",
     "output_type": "stream",
     "text": [
      "Welcome to the rollercoaster!\n",
      "What is your height in cm? 120\n",
      "You can ride the rollercoaster!\n",
      "What is your age? 2\n",
      "Price is $5\n",
      "Do you want a photo? Y/N y\n",
      "Your total is 8\n"
     ]
    }
   ],
   "source": [
    "print(\"Welcome to the rollercoaster!\")\n",
    "height = int(input(\"What is your height in cm? \"))\n",
    "bill = 0\n",
    "\n",
    "if height >= 120:\n",
    "    print(\"You can ride the rollercoaster!\")\n",
    "    age = int(input(\"What is your age? \"))\n",
    "    if age < 12:\n",
    "        bill = 5\n",
    "        print(\"Price is $5\")\n",
    "    elif age <= 18:\n",
    "        bill = 7\n",
    "        print(\"Price is $7\")\n",
    "    else:\n",
    "        bill = 12\n",
    "        print(\"Price is $12\")\n",
    "    photo = input(\"Do you want a photo? Y/N \")\n",
    "    if photo.upper() == \"Y\":\n",
    "        bill += 3\n",
    "    print(f\"Your total is {bill}\")\n",
    "else:\n",
    "    print(\"You can't ride!\")"
   ]
  },
  {
   "cell_type": "code",
   "execution_count": 32,
   "id": "2278d74b",
   "metadata": {},
   "outputs": [
    {
     "name": "stdout",
     "output_type": "stream",
     "text": [
      "That you for choosing Python Pizza Deliveries!\n",
      "What size pizza do you want? S, M, L l\n",
      "Do you want to add pepperoni? Y/N y\n",
      "Do you want extra cheese? Y/N y\n",
      "Total is $29\n"
     ]
    }
   ],
   "source": [
    "print(\"That you for choosing Python Pizza Deliveries!\")\n",
    "size = input(\"What size pizza do you want? S, M, L \").upper()\n",
    "add_pepperoni = input(\"Do you want to add pepperoni? Y/N \").upper()\n",
    "extra_cheese = input(\"Do you want extra cheese? Y/N \").upper()\n",
    "price = 0\n",
    "\n",
    "if size == \"S\":\n",
    "    price += 15\n",
    "    if add_pepperoni == \"Y\":\n",
    "        price += 2\n",
    "elif size == \"M\":\n",
    "    price += 20\n",
    "    if add_pepperoni == \"Y\":\n",
    "        price += 3\n",
    "else:\n",
    "    price += 25\n",
    "    if add_pepperoni == \"Y\":\n",
    "        price += 3\n",
    "if extra_cheese == \"Y\":\n",
    "    price += 1 \n",
    "    \n",
    "print(f\"Total is ${price}\")"
   ]
  },
  {
   "cell_type": "code",
   "execution_count": 36,
   "id": "a37222ed",
   "metadata": {},
   "outputs": [
    {
     "name": "stdout",
     "output_type": "stream",
     "text": [
      "Welcome to the rollercoaster!\n",
      "What is your height in cm? 120\n",
      "You can ride the rollercoaster!\n",
      "What is your age? 45\n",
      "Price is free\n",
      "Do you want a photo? Y/N y\n",
      "Your total is 3\n"
     ]
    }
   ],
   "source": [
    "print(\"Welcome to the rollercoaster!\")\n",
    "height = int(input(\"What is your height in cm? \"))\n",
    "bill = 0\n",
    "\n",
    "if height >= 120:\n",
    "    print(\"You can ride the rollercoaster!\")\n",
    "    age = int(input(\"What is your age? \"))\n",
    "    if age < 12:\n",
    "        bill = 5\n",
    "        print(\"Price is $5\")\n",
    "    elif age <= 18:\n",
    "        bill = 7\n",
    "        print(\"Price is $7\")\n",
    "    elif age >= 45 and age <= 55:\n",
    "        print(\"Price is free\")        \n",
    "    else:\n",
    "        bill = 12\n",
    "        print(\"Price is $12\")\n",
    "    photo = input(\"Do you want a photo? Y/N \")\n",
    "    if photo.upper() == \"Y\":\n",
    "        bill += 3\n",
    "    print(f\"Your total is {bill}\")\n",
    "else:\n",
    "    print(\"You can't ride!\")"
   ]
  },
  {
   "cell_type": "code",
   "execution_count": 52,
   "id": "18a308cf",
   "metadata": {},
   "outputs": [
    {
     "name": "stdout",
     "output_type": "stream",
     "text": [
      "The love calculator is calculating your score...\n",
      "What is your name? Rose\n",
      "What is their name? James\n",
      "Your score is 33\n"
     ]
    }
   ],
   "source": [
    "print(\"The love calculator is calculating your score...\")\n",
    "name1 = input(\"What is your name? \")\n",
    "name2 = input(\"What is their name? \")\n",
    "true = list(\"TRUE\")\n",
    "love = list(\"LOVE\")\n",
    "count_true = 0\n",
    "count_love = 0\n",
    "score = 0\n",
    "\n",
    "for char in (name1 + name2):\n",
    "    if char.upper() in true:\n",
    "        count_true += 1\n",
    "    if char.upper() in love:\n",
    "        count_love += 1\n",
    "        \n",
    "score = int(str(count_true) + str(count_love))\n",
    "\n",
    "if score < 10 or score > 90:\n",
    "    print(f\"Your score is {score}, you go together like coke and mentos\")\n",
    "elif score > 40 and score < 50:\n",
    "    print(f\"Your score is {score}, you are alright together\")\n",
    "else:\n",
    "    print(f\"Your score is {score}\")"
   ]
  },
  {
   "cell_type": "code",
   "execution_count": 46,
   "id": "d714ebf7",
   "metadata": {},
   "outputs": [
    {
     "data": {
      "text/plain": [
       "['L', 'O', 'V', 'E']"
      ]
     },
     "execution_count": 46,
     "metadata": {},
     "output_type": "execute_result"
    }
   ],
   "source": [
    "love"
   ]
  },
  {
   "cell_type": "code",
   "execution_count": 45,
   "id": "ddded66f",
   "metadata": {},
   "outputs": [
    {
     "data": {
      "text/plain": [
       "True"
      ]
     },
     "execution_count": 45,
     "metadata": {},
     "output_type": "execute_result"
    }
   ],
   "source": [
    "\"L\" in love"
   ]
  },
  {
   "cell_type": "code",
   "execution_count": 48,
   "id": "ed6309b3",
   "metadata": {},
   "outputs": [
    {
     "data": {
      "text/plain": [
       "0"
      ]
     },
     "execution_count": 48,
     "metadata": {},
     "output_type": "execute_result"
    }
   ],
   "source": [
    "count_love"
   ]
  },
  {
   "cell_type": "code",
   "execution_count": 57,
   "id": "18f3d7b8",
   "metadata": {},
   "outputs": [
    {
     "name": "stdout",
     "output_type": "stream",
     "text": [
      "\n",
      "*******************************************************************************\n",
      "          |                   |                  |                     |\n",
      " _________|________________.=\"\"_;=.______________|_____________________|_______\n",
      "|                   |  ,-\"_,=\"\"     `\"=.|                  |\n",
      "|___________________|__\"=._o`\"-._        `\"=.______________|___________________\n",
      "          |                `\"=._o`\"=._      _`\"=._                     |\n",
      " _________|_____________________:=._o \"=._.\"_.-=\"'\"=.__________________|_______\n",
      "|                   |    __.--\" , ; `\"=._o.\" ,-\"\"\"-._ \".   |\n",
      "|___________________|_._\"  ,. .` ` `` ,  `\"-._\"-._   \". '__|___________________\n",
      "          |           |o`\"=._` , \"` `; .\". ,  \"-._\"-._; ;              |\n",
      " _________|___________| ;`-.o`\"=._; .\" ` '`.\"\\` . \"-._ /_______________|_______\n",
      "|                   | |o;    `\"-.o`\"=._``  '` \" ,__.--o;   |\n",
      "|___________________|_| ;     (#) `-.o `\"=.`_.--\"_o.-; ;___|___________________\n",
      "____/______/______/___|o;._    \"      `\".o|o_.--\"    ;o;____/______/______/____\n",
      "/______/______/______/_\"=._o--._        ; | ;        ; ;/______/______/______/_\n",
      "____/______/______/______/__\"=._o--._   ;o|o;     _._;o;____/______/______/____\n",
      "/______/______/______/______/____\"=._o._; | ;_.--\"o.--\"_/______/______/______/_\n",
      "____/______/______/______/______/_____\"=.o|o_.--\"\"___/______/______/______/____\n",
      "/______/______/______/______/______/______/______/______/______/______/_____ /\n",
      "*******************************************************************************\n",
      "\n",
      "Welcome to Treasure Island.\n",
      "Your mission is to find the treasure.\n",
      "You are at a crossroad. Which way do you want to go? Left or right? (L/R)l\n",
      "You are at a lake. Would you like to swim or wait? wait\n",
      "Three doors appear before you: red, green, and blue. Which door would you like to go through? R/G/B r\n",
      "You enter a room with a dragon and burned by fire! GAME OVER!\n"
     ]
    }
   ],
   "source": [
    "print('''\n",
    "*******************************************************************************\n",
    "          |                   |                  |                     |\n",
    " _________|________________.=\"\"_;=.______________|_____________________|_______\n",
    "|                   |  ,-\"_,=\"\"     `\"=.|                  |\n",
    "|___________________|__\"=._o`\"-._        `\"=.______________|___________________\n",
    "          |                `\"=._o`\"=._      _`\"=._                     |\n",
    " _________|_____________________:=._o \"=._.\"_.-=\"'\"=.__________________|_______\n",
    "|                   |    __.--\" , ; `\"=._o.\" ,-\"\"\"-._ \".   |\n",
    "|___________________|_._\"  ,. .` ` `` ,  `\"-._\"-._   \". '__|___________________\n",
    "          |           |o`\"=._` , \"` `; .\". ,  \"-._\"-._; ;              |\n",
    " _________|___________| ;`-.o`\"=._; .\" ` '`.\"\\` . \"-._ /_______________|_______\n",
    "|                   | |o;    `\"-.o`\"=._``  '` \" ,__.--o;   |\n",
    "|___________________|_| ;     (#) `-.o `\"=.`_.--\"_o.-; ;___|___________________\n",
    "____/______/______/___|o;._    \"      `\".o|o_.--\"    ;o;____/______/______/____\n",
    "/______/______/______/_\"=._o--._        ; | ;        ; ;/______/______/______/_\n",
    "____/______/______/______/__\"=._o--._   ;o|o;     _._;o;____/______/______/____\n",
    "/______/______/______/______/____\"=._o._; | ;_.--\"o.--\"_/______/______/______/_\n",
    "____/______/______/______/______/_____\"=.o|o_.--\"\"___/______/______/______/____\n",
    "/______/______/______/______/______/______/______/______/______/______/_____ /\n",
    "*******************************************************************************\n",
    "''')\n",
    "print(\"Welcome to Treasure Island.\")\n",
    "print(\"Your mission is to find the treasure.\") \n",
    "\n",
    "#https://www.draw.io/?lightbox=1&highlight=0000ff&edit=_blank&layers=1&nav=1&title=Treasure%20Island%20Conditional.drawio#Uhttps%3A%2F%2Fdrive.google.com%2Fuc%3Fid%3D1oDe4ehjWZipYRsVfeAx2HyB7LCQ8_Fvi%26export%3Ddownload\n",
    "\n",
    "crossroad = input(\"You are at a crossroad. Which way do you want to go? Left or right? (L/R)\").upper()\n",
    "\n",
    "if crossroad == \"L\":\n",
    "    lake = input(\"You are at a lake. Would you like to swim or wait? \").upper()\n",
    "    if lake == \"WAIT\":\n",
    "        door = input(\"Three doors appear before you: red, green, and blue. Which door would you like to go through? R/G/B \").upper()\n",
    "        if door == \"G\":\n",
    "            print(\"You arrive at the castle and marry the frog. You win!\")\n",
    "        elif door == \"R\":\n",
    "            print(\"You enter a room with a dragon and are burned by fire! GAME OVER!\")\n",
    "        else:\n",
    "            print(\"You enter a room full of Tories and shoot yourself in the head! GAME OVER!\")\n",
    "    else:\n",
    "        print(\"You were eaten by a plesiosaur! GAME OVER!\")\n",
    "else:\n",
    "    print(\"You fall into a bear trap full of zombie gnomes and get eaten! GAME OVER!\")\n",
    "    \n",
    "            \n",
    "    "
   ]
  }
 ],
 "metadata": {
  "kernelspec": {
   "display_name": "Python 3 (ipykernel)",
   "language": "python",
   "name": "python3"
  },
  "language_info": {
   "codemirror_mode": {
    "name": "ipython",
    "version": 3
   },
   "file_extension": ".py",
   "mimetype": "text/x-python",
   "name": "python",
   "nbconvert_exporter": "python",
   "pygments_lexer": "ipython3",
   "version": "3.9.7"
  }
 },
 "nbformat": 4,
 "nbformat_minor": 5
}
