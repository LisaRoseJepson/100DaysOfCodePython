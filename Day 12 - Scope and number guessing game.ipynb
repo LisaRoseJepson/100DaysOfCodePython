{
 "cells": [
  {
   "cell_type": "code",
   "execution_count": 1,
   "id": "2936aa2b",
   "metadata": {},
   "outputs": [
    {
     "name": "stdout",
     "output_type": "stream",
     "text": [
      "enemies inside function: 2\n",
      "enemies outside function: 1\n"
     ]
    }
   ],
   "source": [
    "################### Scope ####################\n",
    "\n",
    "enemies = 1 # global scope\n",
    "\n",
    "def increase_enemies():\n",
    "  enemies = 2 # local scope - exists within functions\n",
    "  print(f\"enemies inside function: {enemies}\")\n",
    "\n",
    "increase_enemies()\n",
    "print(f\"enemies outside function: {enemies}\")"
   ]
  },
  {
   "cell_type": "code",
   "execution_count": null,
   "id": "52d5a051",
   "metadata": {},
   "outputs": [],
   "source": [
    "# constants - use uppercase (differentiates from variables)\n",
    "PI = 3.1459"
   ]
  },
  {
   "cell_type": "code",
   "execution_count": 46,
   "id": "bfaa41dd",
   "metadata": {},
   "outputs": [],
   "source": [
    "import random"
   ]
  },
  {
   "cell_type": "code",
   "execution_count": null,
   "id": "4731b45a",
   "metadata": {},
   "outputs": [],
   "source": [
    "number = random.randint(1, 100)\n",
    "play_on = True\n",
    "\n",
    "print(\"I'm thinking of a number between 1 and 100\")\n",
    "mode = input(\"Chosse a difficulty. Type 'easy' or 'hard: '\").lower()\n",
    "\n",
    "if mode == \"easy\":\n",
    "    attempts = 10\n",
    "else:\n",
    "    attempts = 5\n",
    "       \n",
    "while attempts >= 1 and play_on == True:\n",
    "    \n",
    "    guess = int(input(\"Make a guess: \"))\n",
    "       \n",
    "    if guess == number:\n",
    "        print(\"Correct guess! You win!\")\n",
    "        play_on = False\n",
    "    elif attempts == 1:\n",
    "        play_on = False\n",
    "        print(f\"The number as {number}. You lose...\")      \n",
    "    elif guess < number:\n",
    "        attempts -= 1\n",
    "        print(\"Too low!\")\n",
    "    else:\n",
    "        attempts -= 1\n",
    "        print(\"Too high!\")\n",
    "        \n",
    "    if play_on:\n",
    "        print(\"Guess again.\")\n",
    "        print(f\"You have {attempts} remaining to guess the number\")"
   ]
  },
  {
   "cell_type": "code",
   "execution_count": null,
   "id": "dc007467",
   "metadata": {},
   "outputs": [],
   "source": []
  }
 ],
 "metadata": {
  "kernelspec": {
   "display_name": "Python 3 (ipykernel)",
   "language": "python",
   "name": "python3"
  },
  "language_info": {
   "codemirror_mode": {
    "name": "ipython",
    "version": 3
   },
   "file_extension": ".py",
   "mimetype": "text/x-python",
   "name": "python",
   "nbconvert_exporter": "python",
   "pygments_lexer": "ipython3",
   "version": "3.9.7"
  }
 },
 "nbformat": 4,
 "nbformat_minor": 5
}
