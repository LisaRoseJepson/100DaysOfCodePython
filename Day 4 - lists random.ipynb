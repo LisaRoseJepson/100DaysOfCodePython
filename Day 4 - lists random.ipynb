{
 "cells": [
  {
   "cell_type": "code",
   "execution_count": 1,
   "id": "b6490131",
   "metadata": {},
   "outputs": [],
   "source": [
    "import random"
   ]
  },
  {
   "cell_type": "code",
   "execution_count": 7,
   "id": "b06d0b90",
   "metadata": {},
   "outputs": [
    {
     "data": {
      "text/plain": [
       "7"
      ]
     },
     "execution_count": 7,
     "metadata": {},
     "output_type": "execute_result"
    }
   ],
   "source": [
    "rand_int = random.randint(1, 10)\n",
    "rand_int"
   ]
  },
  {
   "cell_type": "code",
   "execution_count": 11,
   "id": "c7fc7835",
   "metadata": {},
   "outputs": [
    {
     "data": {
      "text/plain": [
       "0.48094469925928807"
      ]
     },
     "execution_count": 11,
     "metadata": {},
     "output_type": "execute_result"
    }
   ],
   "source": [
    "# between 0 and 1 (but not including 1)\n",
    "rand_float = random.random()\n",
    "rand_float"
   ]
  },
  {
   "cell_type": "code",
   "execution_count": 14,
   "id": "bb9f29e9",
   "metadata": {},
   "outputs": [
    {
     "data": {
      "text/plain": [
       "3.8351245400296325"
      ]
     },
     "execution_count": 14,
     "metadata": {},
     "output_type": "execute_result"
    }
   ],
   "source": [
    "# expand range from 0-5\n",
    "rand = random.random() * 5\n",
    "rand"
   ]
  },
  {
   "cell_type": "code",
   "execution_count": 31,
   "id": "2c177968",
   "metadata": {},
   "outputs": [
    {
     "name": "stdout",
     "output_type": "stream",
     "text": [
      "Heads\n"
     ]
    }
   ],
   "source": [
    "coin = random.randint(0, 1)\n",
    "if coin == 1:\n",
    "    print(\"Heads\")\n",
    "else:\n",
    "    print(\"Tails\")"
   ]
  },
  {
   "cell_type": "code",
   "execution_count": 32,
   "id": "9aba1605",
   "metadata": {},
   "outputs": [],
   "source": [
    "# List is a data structure - order is kept\n",
    "states = [\"California\", \"Nevada\"]"
   ]
  },
  {
   "cell_type": "code",
   "execution_count": 33,
   "id": "6b5e4c5d",
   "metadata": {},
   "outputs": [
    {
     "data": {
      "text/plain": [
       "'Nevada'"
      ]
     },
     "execution_count": 33,
     "metadata": {},
     "output_type": "execute_result"
    }
   ],
   "source": [
    "states[1]"
   ]
  },
  {
   "cell_type": "code",
   "execution_count": 34,
   "id": "7b6b75df",
   "metadata": {},
   "outputs": [],
   "source": [
    "states[1] = \"Delaware\""
   ]
  },
  {
   "cell_type": "code",
   "execution_count": 35,
   "id": "371204ce",
   "metadata": {},
   "outputs": [
    {
     "data": {
      "text/plain": [
       "['California', 'Delaware']"
      ]
     },
     "execution_count": 35,
     "metadata": {},
     "output_type": "execute_result"
    }
   ],
   "source": [
    "states"
   ]
  },
  {
   "cell_type": "code",
   "execution_count": 36,
   "id": "36651d49",
   "metadata": {},
   "outputs": [],
   "source": [
    "states.append(\"Nevada\")"
   ]
  },
  {
   "cell_type": "code",
   "execution_count": 37,
   "id": "22afc873",
   "metadata": {},
   "outputs": [
    {
     "data": {
      "text/plain": [
       "['California', 'Delaware', 'Nevada']"
      ]
     },
     "execution_count": 37,
     "metadata": {},
     "output_type": "execute_result"
    }
   ],
   "source": [
    "states"
   ]
  },
  {
   "cell_type": "code",
   "execution_count": 38,
   "id": "97c39e84",
   "metadata": {},
   "outputs": [],
   "source": [
    "states.extend([\"Georgia\", \"New York\"])"
   ]
  },
  {
   "cell_type": "code",
   "execution_count": 39,
   "id": "5d615508",
   "metadata": {},
   "outputs": [
    {
     "data": {
      "text/plain": [
       "['California', 'Delaware', 'Nevada', 'Georgia', 'New York']"
      ]
     },
     "execution_count": 39,
     "metadata": {},
     "output_type": "execute_result"
    }
   ],
   "source": [
    "states"
   ]
  },
  {
   "cell_type": "code",
   "execution_count": 41,
   "id": "ee75922c",
   "metadata": {},
   "outputs": [
    {
     "data": {
      "text/plain": [
       "['Lisa Rose', 'James', 'Bryony', 'Matilda', 'Autumn', 'Bob', 'Pumpkin']"
      ]
     },
     "execution_count": 41,
     "metadata": {},
     "output_type": "execute_result"
    }
   ],
   "source": [
    "names_string = \"Lisa Rose, James, Bryony, Matilda, Autumn, Bob, Pumpkin\"\n",
    "names = names_string.split(\", \")\n",
    "names"
   ]
  },
  {
   "cell_type": "code",
   "execution_count": 58,
   "id": "26bc3940",
   "metadata": {},
   "outputs": [
    {
     "data": {
      "text/plain": [
       "'Matilda'"
      ]
     },
     "execution_count": 58,
     "metadata": {},
     "output_type": "execute_result"
    }
   ],
   "source": [
    "rand_name = random.randint(0, len(names)-1)\n",
    "names[rand_name]"
   ]
  },
  {
   "cell_type": "code",
   "execution_count": 75,
   "id": "b890b55e",
   "metadata": {},
   "outputs": [
    {
     "name": "stdout",
     "output_type": "stream",
     "text": [
      "Hiding your treasure! X marks the spot\n",
      "Where do you want to hide your treasure? ABC 123\n",
      "c2\n",
      "['O', 'O', 'O']\n",
      "['O', 'O', 'X']\n",
      "['O', 'O', 'O']\n"
     ]
    }
   ],
   "source": [
    "# Nested lists\n",
    "line1 = [\"O\", \"O\", \"O\"]\n",
    "line2 = [\"O\", \"O\", \"O\"]\n",
    "line3 = [\"O\", \"O\", \"O\"]\n",
    "\n",
    "treasure_map = [line1, line2, line3]\n",
    "\n",
    "print(\"Hiding your treasure! X marks the spot\")\n",
    "position = input(\"Where do you want to hide your treasure? ABC 123\\n\").upper()\n",
    "\n",
    "letter = position[0]\n",
    "abc = [\"A\", \"B\", \"C\"]\n",
    "letter_pos = abc.index(letter)\n",
    "\n",
    "treasure_map[int(position[1])-1][letter_pos] = \"X\"\n",
    "    \n",
    "print(f\"{line1}\\n{line2}\\n{line3}\")"
   ]
  },
  {
   "cell_type": "code",
   "execution_count": 77,
   "id": "360cb9a8",
   "metadata": {},
   "outputs": [],
   "source": [
    "rock = '''\n",
    "    _______\n",
    "---'   ____)\n",
    "      (_____)\n",
    "      (_____)\n",
    "      (____)\n",
    "---.__(___)\n",
    "'''\n",
    "\n",
    "paper = '''\n",
    "    _______\n",
    "---'   ____)____\n",
    "          ______)\n",
    "          _______)\n",
    "         _______)\n",
    "---.__________)\n",
    "'''\n",
    "\n",
    "scissors = '''\n",
    "    _______\n",
    "---'   ____)____\n",
    "          ______)\n",
    "       __________)\n",
    "      (____)\n",
    "---.__(___)\n",
    "'''"
   ]
  },
  {
   "cell_type": "code",
   "execution_count": 105,
   "id": "15961d1c",
   "metadata": {},
   "outputs": [
    {
     "name": "stdout",
     "output_type": "stream",
     "text": [
      "Chose rock 0, paper 1, or scissors 2\n",
      "0\n",
      "\n",
      "Player...\n",
      "\n",
      "    _______\n",
      "---'   ____)\n",
      "      (_____)\n",
      "      (_____)\n",
      "      (____)\n",
      "---.__(___)\n",
      "\n",
      "\n",
      "Computer...\n",
      "\n",
      "    _______\n",
      "---'   ____)\n",
      "      (_____)\n",
      "      (_____)\n",
      "      (____)\n",
      "---.__(___)\n",
      "\n",
      "\n",
      "Draw\n"
     ]
    }
   ],
   "source": [
    "choice = int(input(\"Chose rock 0, paper 1, or scissors 2\\n\"))\n",
    "computer_choice = random.randint(0, 2)\n",
    "options = [rock, paper, scissors]\n",
    "\n",
    "print(f\"\\nPlayer...\\n{options[choice]}\\n\")\n",
    "print(f\"Computer...\\n{options[computer_choice]}\\n\")\n",
    "\n",
    "if choice == computer_choice: # if equal, then draw\n",
    "    print(\"Draw\")\n",
    "elif computer_choice == 0 and choice == 2: # if computer rock and player scissors, lose\n",
    "    print(\"Computer wins!\")\n",
    "elif (choice == 0 and computer_choice == 2) or choice > computer_choice: # if player rock and computer scissors, or player > computer, win\n",
    "    print(\"Player wins!!!\")\n",
    "else: # computer wins\n",
    "    print(\"Computer wins!\")"
   ]
  }
 ],
 "metadata": {
  "kernelspec": {
   "display_name": "Python 3 (ipykernel)",
   "language": "python",
   "name": "python3"
  },
  "language_info": {
   "codemirror_mode": {
    "name": "ipython",
    "version": 3
   },
   "file_extension": ".py",
   "mimetype": "text/x-python",
   "name": "python",
   "nbconvert_exporter": "python",
   "pygments_lexer": "ipython3",
   "version": "3.9.7"
  }
 },
 "nbformat": 4,
 "nbformat_minor": 5
}
