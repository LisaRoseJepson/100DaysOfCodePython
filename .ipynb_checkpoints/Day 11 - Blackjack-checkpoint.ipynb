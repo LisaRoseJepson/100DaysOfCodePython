{
 "cells": [
  {
   "cell_type": "code",
   "execution_count": 79,
   "id": "43a16967",
   "metadata": {},
   "outputs": [],
   "source": [
    "import random"
   ]
  },
  {
   "cell_type": "code",
   "execution_count": 104,
   "id": "f353f988",
   "metadata": {},
   "outputs": [],
   "source": [
    "def draw_card(player):\n",
    "    card = deck.pop(random.randint(0, len(deck)-1))\n",
    "    if player == \"user\":\n",
    "        user_cards.append(card)\n",
    "    else:\n",
    "        computer_cards.append(card)"
   ]
  },
  {
   "cell_type": "code",
   "execution_count": 100,
   "id": "6a4de6b3",
   "metadata": {},
   "outputs": [],
   "source": [
    "def setup_game():\n",
    "    global deck\n",
    "    global user_cards\n",
    "    global computer_cards\n",
    "    \n",
    "    deck = [11, 2, 3, 4, 5, 6, 7, 8, 9, 10, 10, 10, 10] * 4\n",
    "    \n",
    "    user_cards = []\n",
    "    computer_cards = []\n",
    "    \n",
    "    draw_card(\"user\")\n",
    "    draw_card(\"user\")\n",
    "    draw_card(\"computer\")\n",
    "    draw_card(\"computer\")"
   ]
  },
  {
   "cell_type": "code",
   "execution_count": 121,
   "id": "bda21459",
   "metadata": {},
   "outputs": [],
   "source": [
    "def display_cards(player):\n",
    "    if player == \"user\":\n",
    "        print(f\"Player's hand: {user_cards}\")\n",
    "    else:\n",
    "        hide_first = computer_cards.copy()\n",
    "        hide_first[0] = \"X\"\n",
    "        print(f\"Computer's hand: {hide_first}\")"
   ]
  },
  {
   "cell_type": "code",
   "execution_count": 128,
   "id": "982b6a4b",
   "metadata": {},
   "outputs": [],
   "source": [
    "def bust(deck):\n",
    "    total = 0\n",
    "    ace_count = 0\n",
    "    \n",
    "    for card in deck:\n",
    "        total += card\n",
    "        if card == 11:\n",
    "            ace_count += 1\n",
    "        \n",
    "    if total <= 21: # if total equal to or under 21, not bust\n",
    "        return False\n",
    "    elif ace_count == 0: # if total over 21 and no aces, bust\n",
    "        return True\n",
    "    else:\n",
    "        while ace_count > 0 and total > 21: # reduce the total by 10 for each ace, until total under 21 or no aces left\n",
    "            ace_count -= 1\n",
    "            total -= 10\n",
    "        if total <= 21: # if now equal to or under under 21, not bust\n",
    "            return False\n",
    "        else:\n",
    "            return True # if still over 21, bust   "
   ]
  },
  {
   "cell_type": "code",
   "execution_count": 216,
   "id": "2e7868d3",
   "metadata": {},
   "outputs": [],
   "source": [
    "def total(deck):\n",
    "    \n",
    "    total = 0\n",
    "    ace_count = 0\n",
    "    \n",
    "    for card in deck:\n",
    "        total += card\n",
    "        if card == 11:\n",
    "            ace_count += 1\n",
    "        \n",
    "    while ace_count > 0 and total > 21: # reduce the total by 10 for each ace, until total under 21 or no aces left\n",
    "        ace_count -= 1\n",
    "        total -= 10\n",
    "        \n",
    "    return total"
   ]
  },
  {
   "cell_type": "code",
   "execution_count": 222,
   "id": "936590e9",
   "metadata": {},
   "outputs": [
    {
     "name": "stdout",
     "output_type": "stream",
     "text": [
      "Player's hand: [11, 7]\n",
      "Computer's hand: ['X', 6]\n",
      "Would you like to draw a card? Y/N: n\n"
     ]
    },
    {
     "ename": "TypeError",
     "evalue": "'int' object is not callable",
     "output_type": "error",
     "traceback": [
      "\u001b[1;31m---------------------------------------------------------------------------\u001b[0m",
      "\u001b[1;31mTypeError\u001b[0m                                 Traceback (most recent call last)",
      "\u001b[1;32m~\\AppData\\Local\\Temp/ipykernel_25168/1990843692.py\u001b[0m in \u001b[0;36m<module>\u001b[1;34m\u001b[0m\n\u001b[0;32m     25\u001b[0m             \u001b[0mtotal\u001b[0m \u001b[1;33m+=\u001b[0m \u001b[0mcard\u001b[0m\u001b[1;33m\u001b[0m\u001b[1;33m\u001b[0m\u001b[0m\n\u001b[0;32m     26\u001b[0m \u001b[1;33m\u001b[0m\u001b[0m\n\u001b[1;32m---> 27\u001b[1;33m         \u001b[0muser_total\u001b[0m \u001b[1;33m=\u001b[0m \u001b[0mtotal\u001b[0m\u001b[1;33m(\u001b[0m\u001b[0muser_cards\u001b[0m\u001b[1;33m)\u001b[0m\u001b[1;33m\u001b[0m\u001b[1;33m\u001b[0m\u001b[0m\n\u001b[0m\u001b[0;32m     28\u001b[0m \u001b[1;33m\u001b[0m\u001b[0m\n\u001b[0;32m     29\u001b[0m         \u001b[1;32mif\u001b[0m \u001b[0mtotal\u001b[0m \u001b[1;33m<\u001b[0m \u001b[1;36m17\u001b[0m \u001b[1;32mor\u001b[0m \u001b[1;33m(\u001b[0m\u001b[0muser_total\u001b[0m \u001b[1;33m>\u001b[0m \u001b[0mtotal\u001b[0m\u001b[1;33m)\u001b[0m\u001b[1;33m:\u001b[0m\u001b[1;33m\u001b[0m\u001b[1;33m\u001b[0m\u001b[0m\n",
      "\u001b[1;31mTypeError\u001b[0m: 'int' object is not callable"
     ]
    }
   ],
   "source": [
    "setup_game()\n",
    "display_cards(\"user\")\n",
    "display_cards(\"computer\")\n",
    "\n",
    "play_on = True\n",
    "player_hold = False\n",
    "computer_hold = False\n",
    "\n",
    "while play_on:\n",
    "    if not player_hold and play_on:\n",
    "        \n",
    "        draw = input(\"Would you like to draw a card? Y/N: \").upper()\n",
    "        \n",
    "        if draw == \"N\":\n",
    "            player_hold = True\n",
    "        else:\n",
    "            draw_card(\"user\")\n",
    "            display_cards(\"user\")\n",
    "            \n",
    "        play_on = not bust(user_cards)\n",
    "        \n",
    "    if not computer_hold and play_on: \n",
    "        total = 0\n",
    "        for card in computer_cards:\n",
    "            total += card\n",
    "            \n",
    "        user_total = total(user_cards)\n",
    "\n",
    "        if total < 17 or (user_total > total):\n",
    "            draw_card(\"computer\")\n",
    "        else:\n",
    "            computer_hold = True\n",
    "        \n",
    "        if bust(computer_cards):\n",
    "            play_on = False\n",
    "            print(computer_cards)\n",
    "        else:\n",
    "            display_cards(\"computer\")\n",
    "            \n",
    "    if player_hold and computer_hold:\n",
    "        play_on = False\n",
    "        \n",
    "print(user_cards)\n",
    "print(computer_cards)\n",
    "        \n",
    "if bust(user_cards):\n",
    "    print(\"Bust! You lose...\")\n",
    "if bust(computer_cards):\n",
    "    print(\"House bust... You win!\")\n",
    "else:\n",
    "    user_total = total(user_cards)\n",
    "    computer_total = total(computer_cards)\n",
    "    \n",
    "    if user_total > computer_total:\n",
    "        print(f\"Player {user_total}, house {computer_total}: You win!\")\n",
    "    elif computer_total > user_total:\n",
    "        print(f\"House {computer_total}, player {user_total}: House wins!\")\n",
    "    else:\n",
    "        print(f\"Player {user_total}, house {computer_total}: Game tied!\")    "
   ]
  },
  {
   "cell_type": "code",
   "execution_count": null,
   "id": "fa3cf7e9",
   "metadata": {},
   "outputs": [],
   "source": []
  }
 ],
 "metadata": {
  "kernelspec": {
   "display_name": "Python 3 (ipykernel)",
   "language": "python",
   "name": "python3"
  },
  "language_info": {
   "codemirror_mode": {
    "name": "ipython",
    "version": 3
   },
   "file_extension": ".py",
   "mimetype": "text/x-python",
   "name": "python",
   "nbconvert_exporter": "python",
   "pygments_lexer": "ipython3",
   "version": "3.9.7"
  }
 },
 "nbformat": 4,
 "nbformat_minor": 5
}
