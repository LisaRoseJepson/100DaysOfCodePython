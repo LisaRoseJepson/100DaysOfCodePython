{
 "cells": [
  {
   "cell_type": "code",
   "execution_count": 3,
   "id": "fe172491",
   "metadata": {},
   "outputs": [],
   "source": [
    "def greet(name): # name here is the parameter - name of that data\n",
    "    print(f\"Hello {name}!\")\n",
    "    print(\"I am a computer\")\n",
    "    print(\"Goodbye!\")"
   ]
  },
  {
   "cell_type": "code",
   "execution_count": 5,
   "id": "1fe66c53",
   "metadata": {},
   "outputs": [
    {
     "name": "stdout",
     "output_type": "stream",
     "text": [
      "Hello Lisa!\n",
      "I am a computer\n",
      "Goodbye!\n"
     ]
    }
   ],
   "source": [
    "greet(\"Lisa\")"
   ]
  },
  {
   "cell_type": "code",
   "execution_count": 6,
   "id": "4ac1d930",
   "metadata": {},
   "outputs": [
    {
     "name": "stdout",
     "output_type": "stream",
     "text": [
      "What is your name?\n",
      "Lisa Rose\n",
      "Hello Lisa Rose!\n",
      "I am a computer\n",
      "Goodbye!\n"
     ]
    }
   ],
   "source": [
    "name = input(\"What is your name?\\n\")\n",
    "greet(name) # name here is the argument - value of the data"
   ]
  },
  {
   "cell_type": "code",
   "execution_count": 7,
   "id": "e3a999be",
   "metadata": {},
   "outputs": [
    {
     "name": "stdout",
     "output_type": "stream",
     "text": [
      "What is your name?\n",
      "Mammoth\n",
      "Hello Mammoth!\n",
      "I am a computer\n",
      "Goodbye!\n"
     ]
    }
   ],
   "source": [
    "greet(input(\"What is your name?\\n\"))"
   ]
  },
  {
   "cell_type": "code",
   "execution_count": 8,
   "id": "a70275f8",
   "metadata": {},
   "outputs": [],
   "source": [
    "def greet_with(name, location):\n",
    "    print(f\"Hello {name} in {location}\")"
   ]
  },
  {
   "cell_type": "code",
   "execution_count": 9,
   "id": "4d3905f4",
   "metadata": {},
   "outputs": [
    {
     "name": "stdout",
     "output_type": "stream",
     "text": [
      "Hello Lisa Rose in Lathom\n"
     ]
    }
   ],
   "source": [
    "greet_with(\"Lisa Rose\", \"Lathom\") # positional arguments"
   ]
  },
  {
   "cell_type": "code",
   "execution_count": 10,
   "id": "8ea5219c",
   "metadata": {},
   "outputs": [
    {
     "name": "stdout",
     "output_type": "stream",
     "text": [
      "Hello Lisa Rose in Lathom\n"
     ]
    }
   ],
   "source": [
    "greet_with(location=\"Lathom\", name=\"Lisa Rose\") # keyword arguments"
   ]
  },
  {
   "cell_type": "code",
   "execution_count": null,
   "id": "645b95ca",
   "metadata": {},
   "outputs": [],
   "source": []
  },
  {
   "cell_type": "code",
   "execution_count": null,
   "id": "131e7b24",
   "metadata": {},
   "outputs": [],
   "source": []
  },
  {
   "cell_type": "code",
   "execution_count": null,
   "id": "7a1f96ed",
   "metadata": {},
   "outputs": [],
   "source": []
  },
  {
   "cell_type": "code",
   "execution_count": null,
   "id": "1a84c0b5",
   "metadata": {},
   "outputs": [],
   "source": []
  }
 ],
 "metadata": {
  "kernelspec": {
   "display_name": "Python 3 (ipykernel)",
   "language": "python",
   "name": "python3"
  },
  "language_info": {
   "codemirror_mode": {
    "name": "ipython",
    "version": 3
   },
   "file_extension": ".py",
   "mimetype": "text/x-python",
   "name": "python",
   "nbconvert_exporter": "python",
   "pygments_lexer": "ipython3",
   "version": "3.9.7"
  }
 },
 "nbformat": 4,
 "nbformat_minor": 5
}
