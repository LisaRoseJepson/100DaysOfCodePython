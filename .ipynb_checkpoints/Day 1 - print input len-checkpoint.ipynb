{
 "cells": [
  {
   "cell_type": "code",
   "execution_count": 2,
   "id": "edffee53",
   "metadata": {},
   "outputs": [
    {
     "name": "stdout",
     "output_type": "stream",
     "text": [
      "Hello World!\n",
      "Hello World!\n"
     ]
    }
   ],
   "source": [
    "print(\"Hello World!\\nHello World!\")"
   ]
  },
  {
   "cell_type": "code",
   "execution_count": 3,
   "id": "361b7dd1",
   "metadata": {},
   "outputs": [
    {
     "name": "stdout",
     "output_type": "stream",
     "text": [
      "Hello Lisa Rose\n"
     ]
    }
   ],
   "source": [
    "print(\"Hello\" + \" Lisa Rose\")"
   ]
  },
  {
   "cell_type": "code",
   "execution_count": 4,
   "id": "33889fb4",
   "metadata": {},
   "outputs": [
    {
     "name": "stdout",
     "output_type": "stream",
     "text": [
      "What is your name? Lisa Rose\n"
     ]
    },
    {
     "data": {
      "text/plain": [
       "'Lisa Rose'"
      ]
     },
     "execution_count": 4,
     "metadata": {},
     "output_type": "execute_result"
    }
   ],
   "source": [
    "input(\"What is your name? \")"
   ]
  },
  {
   "cell_type": "code",
   "execution_count": 5,
   "id": "48cce003",
   "metadata": {},
   "outputs": [
    {
     "name": "stdout",
     "output_type": "stream",
     "text": [
      "What is your name? Lisa Rose\n"
     ]
    },
    {
     "data": {
      "text/plain": [
       "'Lisa Rose'"
      ]
     },
     "execution_count": 5,
     "metadata": {},
     "output_type": "execute_result"
    }
   ],
   "source": [
    "name = input(\"What is your name? \")\n",
    "name"
   ]
  },
  {
   "cell_type": "code",
   "execution_count": 6,
   "id": "d892cd38",
   "metadata": {},
   "outputs": [
    {
     "data": {
      "text/plain": [
       "'Lisa Rose'"
      ]
     },
     "execution_count": 6,
     "metadata": {},
     "output_type": "execute_result"
    }
   ],
   "source": [
    "name"
   ]
  },
  {
   "cell_type": "code",
   "execution_count": 7,
   "id": "370b0bb1",
   "metadata": {},
   "outputs": [
    {
     "name": "stdout",
     "output_type": "stream",
     "text": [
      "What is your name? Lisa Rose\n",
      "Hello Lisa Rose\n"
     ]
    }
   ],
   "source": [
    "print(\"Hello \" + input(\"What is your name? \"))"
   ]
  },
  {
   "cell_type": "code",
   "execution_count": 9,
   "id": "0552e841",
   "metadata": {},
   "outputs": [
    {
     "name": "stdout",
     "output_type": "stream",
     "text": [
      "What is your name? Lisa Rose\n"
     ]
    },
    {
     "data": {
      "text/plain": [
       "9"
      ]
     },
     "execution_count": 9,
     "metadata": {},
     "output_type": "execute_result"
    }
   ],
   "source": [
    "len(input(\"What is your name? \"))"
   ]
  },
  {
   "cell_type": "code",
   "execution_count": 10,
   "id": "03aa2f84",
   "metadata": {},
   "outputs": [
    {
     "data": {
      "text/plain": [
       "9"
      ]
     },
     "execution_count": 10,
     "metadata": {},
     "output_type": "execute_result"
    }
   ],
   "source": [
    "length = len(name)\n",
    "length"
   ]
  },
  {
   "cell_type": "code",
   "execution_count": 11,
   "id": "3ad088c2",
   "metadata": {},
   "outputs": [
    {
     "name": "stdout",
     "output_type": "stream",
     "text": [
      "Band Name Generator\n",
      "What is the name of the town you grew up in? Wigan\n",
      "What is your pet's name? Matilda\n",
      "Your band name could be Wigan Matilda\n"
     ]
    }
   ],
   "source": [
    "print(\"Band Name Generator\")\n",
    "town = input(\"What is the name of the town you grew up in? \")\n",
    "pet = input(\"What is your pet's name? \")\n",
    "print(\"Your band name could be \" + town + \" \" + pet)"
   ]
  },
  {
   "cell_type": "code",
   "execution_count": null,
   "id": "e87a933d",
   "metadata": {},
   "outputs": [],
   "source": []
  }
 ],
 "metadata": {
  "kernelspec": {
   "display_name": "Python 3 (ipykernel)",
   "language": "python",
   "name": "python3"
  },
  "language_info": {
   "codemirror_mode": {
    "name": "ipython",
    "version": 3
   },
   "file_extension": ".py",
   "mimetype": "text/x-python",
   "name": "python",
   "nbconvert_exporter": "python",
   "pygments_lexer": "ipython3",
   "version": "3.9.7"
  }
 },
 "nbformat": 4,
 "nbformat_minor": 5
}
