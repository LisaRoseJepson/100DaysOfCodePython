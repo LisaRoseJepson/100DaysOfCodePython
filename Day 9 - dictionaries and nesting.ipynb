{
 "cells": [
  {
   "cell_type": "code",
   "execution_count": 5,
   "id": "aa7a66f6",
   "metadata": {},
   "outputs": [],
   "source": [
    "programming_dictionary = {\n",
    "  \"Bug\": \"An error in a program that prevents the program from running as expected.\", \n",
    "  \"Function\": \"A piece of code that you can easily call over and over again.\"\n",
    "}"
   ]
  },
  {
   "cell_type": "code",
   "execution_count": 4,
   "id": "f1ea1b91",
   "metadata": {},
   "outputs": [
    {
     "data": {
      "text/plain": [
       "'An error in a program that prevents the program from running as expected.'"
      ]
     },
     "execution_count": 4,
     "metadata": {},
     "output_type": "execute_result"
    }
   ],
   "source": [
    "programming_dictionary[\"Bug\"]"
   ]
  },
  {
   "cell_type": "code",
   "execution_count": 6,
   "id": "0cefe8be",
   "metadata": {},
   "outputs": [],
   "source": [
    "# adding new items\n",
    "programming_dictionary[\"Loop\"] = \"The action of doing something over and over again\""
   ]
  },
  {
   "cell_type": "code",
   "execution_count": 7,
   "id": "8607547a",
   "metadata": {},
   "outputs": [
    {
     "data": {
      "text/plain": [
       "{'Bug': 'An error in a program that prevents the program from running as expected.',\n",
       " 'Function': 'A piece of code that you can easily call over and over again.',\n",
       " 'Loop': 'The action of doing something over and over again'}"
      ]
     },
     "execution_count": 7,
     "metadata": {},
     "output_type": "execute_result"
    }
   ],
   "source": [
    "programming_dictionary"
   ]
  },
  {
   "cell_type": "code",
   "execution_count": 8,
   "id": "ef920cb7",
   "metadata": {},
   "outputs": [],
   "source": [
    "empty_dict = {}"
   ]
  },
  {
   "cell_type": "code",
   "execution_count": 9,
   "id": "dd18eb4c",
   "metadata": {},
   "outputs": [],
   "source": [
    "empty_dict[\"Apple\"] = 0.50"
   ]
  },
  {
   "cell_type": "code",
   "execution_count": 10,
   "id": "455cd0b2",
   "metadata": {},
   "outputs": [
    {
     "data": {
      "text/plain": [
       "{'Apple': 0.5}"
      ]
     },
     "execution_count": 10,
     "metadata": {},
     "output_type": "execute_result"
    }
   ],
   "source": [
    "empty_dict"
   ]
  },
  {
   "cell_type": "code",
   "execution_count": 11,
   "id": "b9a5143a",
   "metadata": {},
   "outputs": [
    {
     "data": {
      "text/plain": [
       "{}"
      ]
     },
     "execution_count": 11,
     "metadata": {},
     "output_type": "execute_result"
    }
   ],
   "source": [
    "# Clear dictionary\n",
    "empty_dict = {}\n",
    "empty_dict"
   ]
  },
  {
   "cell_type": "code",
   "execution_count": 12,
   "id": "53328ab0",
   "metadata": {},
   "outputs": [
    {
     "data": {
      "text/plain": [
       "0.5"
      ]
     },
     "execution_count": 12,
     "metadata": {},
     "output_type": "execute_result"
    }
   ],
   "source": [
    "empty_dict[\"Apple\"] = 0.50\n",
    "empty_dict[\"Apple\"]"
   ]
  },
  {
   "cell_type": "code",
   "execution_count": 14,
   "id": "cc25d477",
   "metadata": {},
   "outputs": [
    {
     "data": {
      "text/plain": [
       "{'Apple': 0.75, 'Pear': 0.99}"
      ]
     },
     "execution_count": 14,
     "metadata": {},
     "output_type": "execute_result"
    }
   ],
   "source": [
    "# Edit entry (if key not found, will create a new entry)\n",
    "empty_dict[\"Apple\"] = 0.75\n",
    "empty_dict[\"Pear\"] = 0.99\n",
    "empty_dict"
   ]
  },
  {
   "cell_type": "code",
   "execution_count": 19,
   "id": "be22de37",
   "metadata": {},
   "outputs": [
    {
     "name": "stdout",
     "output_type": "stream",
     "text": [
      "Bug\n",
      "An error in a program that prevents the program from running as expected.\n",
      "Function\n",
      "A piece of code that you can easily call over and over again.\n",
      "Loop\n",
      "The action of doing something over and over again\n"
     ]
    }
   ],
   "source": [
    "for key in programming_dictionary:\n",
    "    print(key) # prints key\n",
    "    print(programming_dictionary[key]) # prints value"
   ]
  },
  {
   "cell_type": "code",
   "execution_count": 20,
   "id": "9b206036",
   "metadata": {},
   "outputs": [],
   "source": [
    "student_scores = {\n",
    "    \"Harry\": 81,\n",
    "    \"Ron\": 78,\n",
    "    \"Hermione\": 99,\n",
    "    \"Draco\": 74,\n",
    "    \"Neville\": 62\n",
    "}"
   ]
  },
  {
   "cell_type": "code",
   "execution_count": 21,
   "id": "898659dc",
   "metadata": {},
   "outputs": [],
   "source": [
    "student_grades = {}"
   ]
  },
  {
   "cell_type": "code",
   "execution_count": 23,
   "id": "79643e8f",
   "metadata": {},
   "outputs": [
    {
     "data": {
      "text/plain": [
       "{'Harry': 'Exceeds Expectations',\n",
       " 'Ron': 'Acceptable',\n",
       " 'Hermione': 'Outstanding',\n",
       " 'Draco': 'Acceptable',\n",
       " 'Neville': 'Fail'}"
      ]
     },
     "execution_count": 23,
     "metadata": {},
     "output_type": "execute_result"
    }
   ],
   "source": [
    "for student in student_scores:\n",
    "    grade = \"\"\n",
    "    if student_scores[student] >= 91:\n",
    "        grade = \"Outstanding\"\n",
    "    elif student_scores[student] >= 81:\n",
    "        grade = \"Exceeds Expectations\"\n",
    "    elif student_scores[student] >= 71:\n",
    "        grade = \"Acceptable\"\n",
    "    else:\n",
    "        grade = \"Fail\"\n",
    "        \n",
    "    student_grades[student] = grade\n",
    "    \n",
    "student_grades"
   ]
  },
  {
   "cell_type": "code",
   "execution_count": 24,
   "id": "ccc1116d",
   "metadata": {},
   "outputs": [],
   "source": [
    "# Nesting a list in a dictionary\n",
    "travel_log = {\n",
    "    \"France\": [\"Paris\", \"Lille\", \"Dijon\"],\n",
    "    \"Germany\": [\"Berlin\", \"Hamburg\", \"Stuttgart\"]\n",
    "}"
   ]
  },
  {
   "cell_type": "code",
   "execution_count": 25,
   "id": "b7d00fc3",
   "metadata": {},
   "outputs": [
    {
     "data": {
      "text/plain": [
       "'Berlin'"
      ]
     },
     "execution_count": 25,
     "metadata": {},
     "output_type": "execute_result"
    }
   ],
   "source": [
    "travel_log[\"Germany\"][0]"
   ]
  },
  {
   "cell_type": "code",
   "execution_count": 27,
   "id": "32f58f43",
   "metadata": {},
   "outputs": [],
   "source": [
    "# Nesting a dictionary in a dictionary\n",
    "travel_log = {\n",
    "    \"France\": {\"cities_visited\": [\"Paris\", \"Lille\", \"Dijon\"], \"total_visits\": 12},\n",
    "    \"Germany\": {\"cities_visited\": [\"Berlin\", \"Hamburg\", \"Stuttgart\"], \"total_visits\": 5}\n",
    "}"
   ]
  },
  {
   "cell_type": "code",
   "execution_count": 30,
   "id": "795f2018",
   "metadata": {},
   "outputs": [],
   "source": [
    "# Nesting a dictionary in a list\n",
    "travel_log = [\n",
    "    {\n",
    "        \"country\": \"France\", \n",
    "        \"cities_visited\": [\"Paris\", \"Lille\", \"Dijon\"],\n",
    "        \"total_visits\": 12\n",
    "    },\n",
    "    {\n",
    "        \"country\": \"Germany\", \n",
    "         \"cities_visited\": [\"Berlin\", \"Hamburg\", \"Stuttgart\"], \n",
    "         \"total_visits\": 5\n",
    "    }\n",
    "]"
   ]
  },
  {
   "cell_type": "code",
   "execution_count": 31,
   "id": "10381d69",
   "metadata": {},
   "outputs": [],
   "source": [
    "def add_new_country(country, list_of_cities, visits):\n",
    "    temp_dict = {}\n",
    "    temp_dict[\"country\"] = country\n",
    "    temp_dict[\"cities_visited\"] = list_of_cities\n",
    "    temp_dict[\"total_visits\"] = visits\n",
    "    \n",
    "    travel_log.append(temp_dict)"
   ]
  },
  {
   "cell_type": "code",
   "execution_count": 44,
   "id": "75b049d1",
   "metadata": {},
   "outputs": [
    {
     "name": "stdout",
     "output_type": "stream",
     "text": [
      "What country have you visited?\n",
      "Scot\n",
      "What cities did you visit?\n",
      "Edinburgh, Glasgow\n",
      "How many times did you visit?\n",
      "5\n"
     ]
    }
   ],
   "source": [
    "country = input(\"What country have you visited?\\n\")\n",
    "list_of_cities = input(\"What cities did you visit?\\n\").replace(\" \", \"\").split(\",\") # remove spaces and convert to list\n",
    "visits = int(input(\"How many times did you visit?\\n\"))"
   ]
  },
  {
   "cell_type": "code",
   "execution_count": 46,
   "id": "6c53aeac",
   "metadata": {},
   "outputs": [],
   "source": [
    "add_new_country(country, list_of_cities, visits)"
   ]
  },
  {
   "cell_type": "code",
   "execution_count": 47,
   "id": "d0a2fac3",
   "metadata": {},
   "outputs": [
    {
     "data": {
      "text/plain": [
       "[{'country': 'France',\n",
       "  'cities_visited': ['Paris', 'Lille', 'Dijon'],\n",
       "  'total_visits': 12},\n",
       " {'country': 'Germany',\n",
       "  'cities_visited': ['Berlin', 'Hamburg', 'Stuttgart'],\n",
       "  'total_visits': 5},\n",
       " {'country': 'Scot',\n",
       "  'cities_visited': ['Edinburgh', 'Glasgow'],\n",
       "  'total_visits': 5}]"
      ]
     },
     "execution_count": 47,
     "metadata": {},
     "output_type": "execute_result"
    }
   ],
   "source": [
    "travel_log"
   ]
  },
  {
   "cell_type": "code",
   "execution_count": 53,
   "id": "e2bd7d93",
   "metadata": {},
   "outputs": [
    {
     "name": "stdout",
     "output_type": "stream",
     "text": [
      "I've been to Germany 5 times\n",
      "My favourite city was Berlin\n"
     ]
    }
   ],
   "source": [
    "print(f\"I've been to {travel_log[1]['country']} {travel_log[1]['total_visits']} times\")\n",
    "print(f\"My favourite city was {travel_log[1]['cities_visited'][0]}\")"
   ]
  },
  {
   "cell_type": "code",
   "execution_count": 70,
   "id": "6d67a3d0",
   "metadata": {},
   "outputs": [],
   "source": [
    "logo = '''\n",
    "                         ___________\n",
    "                         \\         /\n",
    "                          )_______(\n",
    "                          |\"\"\"\"\"\"\"|_.-._,.---------.,_.-._\n",
    "                          |       | | |               | | ''-.\n",
    "                          |       |_| |_             _| |_..-'\n",
    "                          |_______| '-' `'---------'` '-'\n",
    "                          )\"\"\"\"\"\"\"(\n",
    "                         /_________\\\\\n",
    "                       .-------------.\n",
    "                      /_______________\\\\\n",
    "'''"
   ]
  },
  {
   "cell_type": "code",
   "execution_count": 54,
   "id": "b1027d45",
   "metadata": {},
   "outputs": [],
   "source": [
    "from IPython.display import clear_output"
   ]
  },
  {
   "cell_type": "code",
   "execution_count": 86,
   "id": "f55b5c62",
   "metadata": {},
   "outputs": [],
   "source": [
    "bid_dict = {}\n",
    "\n",
    "def add_bid(name, bid):\n",
    "    bid_dict[name] = bid"
   ]
  },
  {
   "cell_type": "code",
   "execution_count": 89,
   "id": "a67436cc",
   "metadata": {},
   "outputs": [],
   "source": [
    "def highest_bidder(bid_dict):\n",
    "    \n",
    "    winner = \"\"\n",
    "    highest_bid = 0\n",
    "    \n",
    "    for name in bid_dict:\n",
    "        if bid_dict[name] > highest_bid:\n",
    "            highest_bid = bid_dict[name]\n",
    "            winner = name\n",
    "            \n",
    "    print(f\"The highest bidder was {winner} with £{highest_bid}\")        "
   ]
  },
  {
   "cell_type": "code",
   "execution_count": 90,
   "id": "be9e93e5",
   "metadata": {},
   "outputs": [
    {
     "name": "stdout",
     "output_type": "stream",
     "text": [
      "\n",
      "                         ___________\n",
      "                         \\         /\n",
      "                          )_______(\n",
      "                          |\"\"\"\"\"\"\"|_.-._,.---------.,_.-._\n",
      "                          |       | | |               | | ''-.\n",
      "                          |       |_| |_             _| |_..-'\n",
      "                          |_______| '-' `'---------'` '-'\n",
      "                          )\"\"\"\"\"\"\"(\n",
      "                         /_________\\\n",
      "                       .-------------.\n",
      "                      /_______________\\\n",
      "\n",
      "What is your name?\n",
      "Lisa\n",
      "What is your bid?\n",
      "80\n",
      "Are there more bidders? Y/N\n",
      "y\n",
      "What is your name?\n",
      "James\n",
      "What is your bid?\n",
      "70\n",
      "Are there more bidders? Y/N\n",
      "n\n",
      "The highest bidder was Lisa with £80\n"
     ]
    }
   ],
   "source": [
    "bidding = True\n",
    "print(logo)\n",
    "\n",
    "while bidding:\n",
    "    name = input(\"What is your name?\\n\")\n",
    "    bid = int(input(\"What is your bid?\\n\"))\n",
    "    \n",
    "    add_bid(name, bid)\n",
    "    \n",
    "    more_bidders = input(\"Are there more bidders? Y/N\\n\").upper()\n",
    "    \n",
    "    #clear_output()\n",
    "    \n",
    "    if more_bidders == \"N\":\n",
    "        bidding = False\n",
    "        highest_bidder(bid_dict)"
   ]
  }
 ],
 "metadata": {
  "kernelspec": {
   "display_name": "Python 3 (ipykernel)",
   "language": "python",
   "name": "python3"
  },
  "language_info": {
   "codemirror_mode": {
    "name": "ipython",
    "version": 3
   },
   "file_extension": ".py",
   "mimetype": "text/x-python",
   "name": "python",
   "nbconvert_exporter": "python",
   "pygments_lexer": "ipython3",
   "version": "3.9.7"
  }
 },
 "nbformat": 4,
 "nbformat_minor": 5
}
